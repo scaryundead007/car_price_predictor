{
  "nbformat": 4,
  "nbformat_minor": 0,
  "metadata": {
    "colab": {
      "name": "Last-try-ALA.ipynb",
      "provenance": [],
      "collapsed_sections": [],
      "include_colab_link": true
    },
    "kernelspec": {
      "name": "python3",
      "display_name": "Python 3"
    },
    "language_info": {
      "name": "python"
    }
  },
  "cells": [
    {
      "cell_type": "markdown",
      "metadata": {
        "id": "view-in-github",
        "colab_type": "text"
      },
      "source": [
        "<a href=\"https://colab.research.google.com/github/scaryundead007/car_price_predictor/blob/master/Last_try_ALA.ipynb\" target=\"_parent\"><img src=\"https://colab.research.google.com/assets/colab-badge.svg\" alt=\"Open In Colab\"/></a>"
      ]
    },
    {
      "cell_type": "code",
      "metadata": {
        "id": "6KtignVhCRCt"
      },
      "source": [
        "import numpy as np\n",
        "import pandas as pd"
      ],
      "execution_count": null,
      "outputs": []
    },
    {
      "cell_type": "code",
      "metadata": {
        "id": "2ybGCvO3CV8v"
      },
      "source": [
        "df = pd.read_csv('Cleaned_Cardata.csv')\n"
      ],
      "execution_count": null,
      "outputs": []
    },
    {
      "cell_type": "code",
      "metadata": {
        "colab": {
          "base_uri": "https://localhost:8080/",
          "height": 206
        },
        "id": "HH9KduMVCgER",
        "outputId": "e2df5654-d605-4736-bb93-dcbc541e6134"
      },
      "source": [
        "df.drop('Unnamed: 0',axis = 1,inplace = True)\n",
        "df.head()"
      ],
      "execution_count": null,
      "outputs": [
        {
          "output_type": "execute_result",
          "data": {
            "text/html": [
              "<div>\n",
              "<style scoped>\n",
              "    .dataframe tbody tr th:only-of-type {\n",
              "        vertical-align: middle;\n",
              "    }\n",
              "\n",
              "    .dataframe tbody tr th {\n",
              "        vertical-align: top;\n",
              "    }\n",
              "\n",
              "    .dataframe thead th {\n",
              "        text-align: right;\n",
              "    }\n",
              "</style>\n",
              "<table border=\"1\" class=\"dataframe\">\n",
              "  <thead>\n",
              "    <tr style=\"text-align: right;\">\n",
              "      <th></th>\n",
              "      <th>name</th>\n",
              "      <th>company</th>\n",
              "      <th>year</th>\n",
              "      <th>Price</th>\n",
              "      <th>kms_driven</th>\n",
              "      <th>fuel_type</th>\n",
              "    </tr>\n",
              "  </thead>\n",
              "  <tbody>\n",
              "    <tr>\n",
              "      <th>0</th>\n",
              "      <td>Hyundai Santro Xing</td>\n",
              "      <td>Hyundai</td>\n",
              "      <td>2007</td>\n",
              "      <td>80000</td>\n",
              "      <td>45000</td>\n",
              "      <td>Petrol</td>\n",
              "    </tr>\n",
              "    <tr>\n",
              "      <th>1</th>\n",
              "      <td>Mahindra Jeep CL550</td>\n",
              "      <td>Mahindra</td>\n",
              "      <td>2006</td>\n",
              "      <td>425000</td>\n",
              "      <td>40</td>\n",
              "      <td>Diesel</td>\n",
              "    </tr>\n",
              "    <tr>\n",
              "      <th>2</th>\n",
              "      <td>Hyundai Grand i10</td>\n",
              "      <td>Hyundai</td>\n",
              "      <td>2014</td>\n",
              "      <td>325000</td>\n",
              "      <td>28000</td>\n",
              "      <td>Petrol</td>\n",
              "    </tr>\n",
              "    <tr>\n",
              "      <th>3</th>\n",
              "      <td>Ford EcoSport Titanium</td>\n",
              "      <td>Ford</td>\n",
              "      <td>2014</td>\n",
              "      <td>575000</td>\n",
              "      <td>36000</td>\n",
              "      <td>Diesel</td>\n",
              "    </tr>\n",
              "    <tr>\n",
              "      <th>4</th>\n",
              "      <td>Ford Figo</td>\n",
              "      <td>Ford</td>\n",
              "      <td>2012</td>\n",
              "      <td>175000</td>\n",
              "      <td>41000</td>\n",
              "      <td>Diesel</td>\n",
              "    </tr>\n",
              "  </tbody>\n",
              "</table>\n",
              "</div>"
            ],
            "text/plain": [
              "                     name   company  year   Price  kms_driven fuel_type\n",
              "0     Hyundai Santro Xing   Hyundai  2007   80000       45000    Petrol\n",
              "1     Mahindra Jeep CL550  Mahindra  2006  425000          40    Diesel\n",
              "2       Hyundai Grand i10   Hyundai  2014  325000       28000    Petrol\n",
              "3  Ford EcoSport Titanium      Ford  2014  575000       36000    Diesel\n",
              "4               Ford Figo      Ford  2012  175000       41000    Diesel"
            ]
          },
          "metadata": {},
          "execution_count": 5
        }
      ]
    },
    {
      "cell_type": "code",
      "metadata": {
        "colab": {
          "base_uri": "https://localhost:8080/",
          "height": 424
        },
        "id": "QxN8csrKLHgP",
        "outputId": "c3016a29-8e71-42ae-e19a-3f8b58108a68"
      },
      "source": [
        "columns_titles = [\"name\",\"company\",\"year\",\"kms_driven\",\"fuel_type\",\"Price\"]\n",
        "df=df.reindex(columns=columns_titles)\n",
        "df"
      ],
      "execution_count": null,
      "outputs": [
        {
          "output_type": "execute_result",
          "data": {
            "text/html": [
              "<div>\n",
              "<style scoped>\n",
              "    .dataframe tbody tr th:only-of-type {\n",
              "        vertical-align: middle;\n",
              "    }\n",
              "\n",
              "    .dataframe tbody tr th {\n",
              "        vertical-align: top;\n",
              "    }\n",
              "\n",
              "    .dataframe thead th {\n",
              "        text-align: right;\n",
              "    }\n",
              "</style>\n",
              "<table border=\"1\" class=\"dataframe\">\n",
              "  <thead>\n",
              "    <tr style=\"text-align: right;\">\n",
              "      <th></th>\n",
              "      <th>name</th>\n",
              "      <th>company</th>\n",
              "      <th>year</th>\n",
              "      <th>kms_driven</th>\n",
              "      <th>fuel_type</th>\n",
              "      <th>Price</th>\n",
              "    </tr>\n",
              "  </thead>\n",
              "  <tbody>\n",
              "    <tr>\n",
              "      <th>0</th>\n",
              "      <td>Hyundai Santro Xing</td>\n",
              "      <td>Hyundai</td>\n",
              "      <td>2007</td>\n",
              "      <td>45000</td>\n",
              "      <td>Petrol</td>\n",
              "      <td>80000</td>\n",
              "    </tr>\n",
              "    <tr>\n",
              "      <th>1</th>\n",
              "      <td>Mahindra Jeep CL550</td>\n",
              "      <td>Mahindra</td>\n",
              "      <td>2006</td>\n",
              "      <td>40</td>\n",
              "      <td>Diesel</td>\n",
              "      <td>425000</td>\n",
              "    </tr>\n",
              "    <tr>\n",
              "      <th>2</th>\n",
              "      <td>Hyundai Grand i10</td>\n",
              "      <td>Hyundai</td>\n",
              "      <td>2014</td>\n",
              "      <td>28000</td>\n",
              "      <td>Petrol</td>\n",
              "      <td>325000</td>\n",
              "    </tr>\n",
              "    <tr>\n",
              "      <th>3</th>\n",
              "      <td>Ford EcoSport Titanium</td>\n",
              "      <td>Ford</td>\n",
              "      <td>2014</td>\n",
              "      <td>36000</td>\n",
              "      <td>Diesel</td>\n",
              "      <td>575000</td>\n",
              "    </tr>\n",
              "    <tr>\n",
              "      <th>4</th>\n",
              "      <td>Ford Figo</td>\n",
              "      <td>Ford</td>\n",
              "      <td>2012</td>\n",
              "      <td>41000</td>\n",
              "      <td>Diesel</td>\n",
              "      <td>175000</td>\n",
              "    </tr>\n",
              "    <tr>\n",
              "      <th>...</th>\n",
              "      <td>...</td>\n",
              "      <td>...</td>\n",
              "      <td>...</td>\n",
              "      <td>...</td>\n",
              "      <td>...</td>\n",
              "      <td>...</td>\n",
              "    </tr>\n",
              "    <tr>\n",
              "      <th>810</th>\n",
              "      <td>Maruti Suzuki Ritz</td>\n",
              "      <td>Maruti</td>\n",
              "      <td>2011</td>\n",
              "      <td>50000</td>\n",
              "      <td>Petrol</td>\n",
              "      <td>270000</td>\n",
              "    </tr>\n",
              "    <tr>\n",
              "      <th>811</th>\n",
              "      <td>Tata Indica V2</td>\n",
              "      <td>Tata</td>\n",
              "      <td>2009</td>\n",
              "      <td>30000</td>\n",
              "      <td>Diesel</td>\n",
              "      <td>110000</td>\n",
              "    </tr>\n",
              "    <tr>\n",
              "      <th>812</th>\n",
              "      <td>Toyota Corolla Altis</td>\n",
              "      <td>Toyota</td>\n",
              "      <td>2009</td>\n",
              "      <td>132000</td>\n",
              "      <td>Petrol</td>\n",
              "      <td>300000</td>\n",
              "    </tr>\n",
              "    <tr>\n",
              "      <th>813</th>\n",
              "      <td>Tata Zest XM</td>\n",
              "      <td>Tata</td>\n",
              "      <td>2018</td>\n",
              "      <td>27000</td>\n",
              "      <td>Diesel</td>\n",
              "      <td>260000</td>\n",
              "    </tr>\n",
              "    <tr>\n",
              "      <th>814</th>\n",
              "      <td>Mahindra Quanto C8</td>\n",
              "      <td>Mahindra</td>\n",
              "      <td>2013</td>\n",
              "      <td>40000</td>\n",
              "      <td>Diesel</td>\n",
              "      <td>390000</td>\n",
              "    </tr>\n",
              "  </tbody>\n",
              "</table>\n",
              "<p>815 rows × 6 columns</p>\n",
              "</div>"
            ],
            "text/plain": [
              "                       name   company  year  kms_driven fuel_type   Price\n",
              "0       Hyundai Santro Xing   Hyundai  2007       45000    Petrol   80000\n",
              "1       Mahindra Jeep CL550  Mahindra  2006          40    Diesel  425000\n",
              "2         Hyundai Grand i10   Hyundai  2014       28000    Petrol  325000\n",
              "3    Ford EcoSport Titanium      Ford  2014       36000    Diesel  575000\n",
              "4                 Ford Figo      Ford  2012       41000    Diesel  175000\n",
              "..                      ...       ...   ...         ...       ...     ...\n",
              "810      Maruti Suzuki Ritz    Maruti  2011       50000    Petrol  270000\n",
              "811          Tata Indica V2      Tata  2009       30000    Diesel  110000\n",
              "812    Toyota Corolla Altis    Toyota  2009      132000    Petrol  300000\n",
              "813            Tata Zest XM      Tata  2018       27000    Diesel  260000\n",
              "814      Mahindra Quanto C8  Mahindra  2013       40000    Diesel  390000\n",
              "\n",
              "[815 rows x 6 columns]"
            ]
          },
          "metadata": {},
          "execution_count": 115
        }
      ]
    },
    {
      "cell_type": "code",
      "metadata": {
        "id": "tE-eFcpZEV5-"
      },
      "source": [
        "arr1 = df['fuel_type'].unique()\n",
        "for j in range(len(arr1)):\n",
        "  df['fuel_type'] = df['fuel_type'].str.replace(arr1[j],str(j+1))"
      ],
      "execution_count": null,
      "outputs": []
    },
    {
      "cell_type": "code",
      "metadata": {
        "id": "UNC2N_JfEhah"
      },
      "source": [
        "arr = df['company'].unique()\n",
        "for i in range(len(arr)):\n",
        "  df['company'] = df['company'].str.replace(arr[i],str(i+1))"
      ],
      "execution_count": null,
      "outputs": []
    },
    {
      "cell_type": "code",
      "metadata": {
        "id": "7CEpEosSJ2Gt"
      },
      "source": [
        "df['fuel_type'] = df['fuel_type'].astype('float')\n",
        "df['company'] = df['company'].astype('float')\n",
        "df['year'] = df['year'].astype('float')\n",
        "df['kms_driven'] = df['kms_driven'].astype('float')\n",
        "df['Price'] = df['Price'].astype('float')\n"
      ],
      "execution_count": null,
      "outputs": []
    },
    {
      "cell_type": "code",
      "metadata": {
        "colab": {
          "base_uri": "https://localhost:8080/"
        },
        "id": "3QMbbmciLgOP",
        "outputId": "9b68de1f-12d2-41d6-ebda-7018d8260537"
      },
      "source": [
        "df.dtypes"
      ],
      "execution_count": null,
      "outputs": [
        {
          "output_type": "execute_result",
          "data": {
            "text/plain": [
              "name           object\n",
              "company       float64\n",
              "year          float64\n",
              "kms_driven    float64\n",
              "fuel_type     float64\n",
              "Price         float64\n",
              "dtype: object"
            ]
          },
          "metadata": {},
          "execution_count": 119
        }
      ]
    },
    {
      "cell_type": "code",
      "metadata": {
        "id": "Lh_L11KRCm1w"
      },
      "source": [
        "#Converting from pandas.core.frame.DataFrame to numpy.ndarray\n",
        "train = df.values\n",
        "#Taking a look at our array\n"
      ],
      "execution_count": null,
      "outputs": []
    },
    {
      "cell_type": "code",
      "metadata": {
        "id": "TUiYv8c0Cvzu",
        "colab": {
          "base_uri": "https://localhost:8080/"
        },
        "outputId": "9356357e-3dd1-4c3e-ab32-a08d40f57130"
      },
      "source": [
        "X_train = train[:, 1:-1]\n",
        "y_train = train[:,-1]\n",
        "X_train"
      ],
      "execution_count": null,
      "outputs": [
        {
          "output_type": "execute_result",
          "data": {
            "text/plain": [
              "array([[1.0, 2007.0, 45000.0, 1.0],\n",
              "       [2.0, 2006.0, 40.0, 2.0],\n",
              "       [1.0, 2014.0, 28000.0, 1.0],\n",
              "       ...,\n",
              "       [7.0, 2009.0, 132000.0, 1.0],\n",
              "       [12.0, 2018.0, 27000.0, 2.0],\n",
              "       [2.0, 2013.0, 40000.0, 2.0]], dtype=object)"
            ]
          },
          "metadata": {},
          "execution_count": 121
        }
      ]
    },
    {
      "cell_type": "code",
      "metadata": {
        "colab": {
          "base_uri": "https://localhost:8080/"
        },
        "id": "005Fo6RBQ7Ik",
        "outputId": "6fdaa955-2751-4b6a-bc3a-c27222d87e40"
      },
      "source": [
        "y_train"
      ],
      "execution_count": null,
      "outputs": [
        {
          "output_type": "execute_result",
          "data": {
            "text/plain": [
              "array([80000.0, 425000.0, 325000.0, 575000.0, 175000.0, 190000.0,\n",
              "       830000.0, 250000.0, 182000.0, 315000.0, 415000.0, 320000.0,\n",
              "       80000.0, 425000.0, 1000000.0, 500000.0, 350000.0, 160000.0,\n",
              "       350000.0, 310000.0, 75000.0, 100000.0, 100000.0, 100000.0,\n",
              "       190000.0, 290000.0, 95000.0, 180000.0, 385000.0, 250000.0,\n",
              "       180000.0, 105000.0, 105000.0, 650000.0, 689999.0, 448000.0,\n",
              "       549000.0, 501000.0, 489999.0, 280000.0, 250000.0, 349999.0,\n",
              "       284999.0, 345000.0, 499999.0, 235000.0, 249999.0, 1475000.0,\n",
              "       180000.0, 385000.0, 250000.0, 180000.0, 105000.0, 105000.0,\n",
              "       395000.0, 220000.0, 170000.0, 85000.0, 175000.0, 190000.0,\n",
              "       200000.0, 830000.0, 200000.0, 570000.0, 315000.0, 182000.0,\n",
              "       315000.0, 110000.0, 501000.0, 448999.0, 1891111.0, 235000.0,\n",
              "       159500.0, 344999.0, 344999.0, 449999.0, 1891111.0, 865000.0,\n",
              "       699000.0, 375000.0, 489999.0, 224999.0, 1200000.0, 195000.0,\n",
              "       351000.0, 160000.0, 240000.0, 90000.0, 415000.0, 155000.0,\n",
              "       600000.0, 189500.0, 350000.0, 210000.0, 390000.0, 135000.0,\n",
              "       1600000.0, 701000.0, 265000.0, 525000.0, 372000.0, 635000.0,\n",
              "       550000.0, 575000.0, 485000.0, 155000.0, 345000.0, 325000.0,\n",
              "       329500.0, 195000.0, 251111.0, 569999.0, 69999.0, 299999.0,\n",
              "       220000.0, 399999.0, 372000.0, 450000.0, 270000.0, 350000.0,\n",
              "       158400.0, 350000.0, 179000.0, 125000.0, 200000.0, 299000.0,\n",
              "       220000.0, 150000.0, 285000.0, 830000.0, 210000.0, 340000.0,\n",
              "       90000.0, 70000.0, 289999.0, 349999.0, 849999.0, 749999.0, 399999.0,\n",
              "       274999.0, 984999.0, 449999.0, 344999.0, 224999.0, 599999.0,\n",
              "       244999.0, 399999.0, 489999.0, 474999.0, 499999.0, 310000.0,\n",
              "       85000.0, 245000.0, 189500.0, 169500.0, 159500.0, 275000.0,\n",
              "       370000.0, 168000.0, 150000.0, 145000.0, 98500.0, 699000.0, 85000.0,\n",
              "       575000.0, 549000.0, 209000.0, 185000.0, 900000.0, 699999.0,\n",
              "       224999.0, 274999.0, 284999.0, 599999.0, 199999.0, 544999.0,\n",
              "       199000.0, 320000.0, 540000.0, 340000.0, 75000.0, 159500.0,\n",
              "       1891111.0, 49000.0, 700000.0, 55000.0, 448999.0, 895000.0,\n",
              "       355000.0, 565000.0, 365000.0, 145000.0, 210000.0, 40000.0,\n",
              "       125000.0, 135000.0, 135000.0, 285000.0, 145000.0, 135000.0,\n",
              "       450000.0, 375000.0, 375000.0, 365000.0, 500000.0, 400000.0,\n",
              "       390000.0, 501000.0, 330000.0, 580000.0, 265000.0, 379000.0,\n",
              "       219000.0, 385000.0, 275000.0, 330000.0, 110000.0, 80000.0,\n",
              "       519000.0, 730000.0, 1475000.0, 699000.0, 2000000.0, 2100000.0,\n",
              "       340000.0, 390000.0, 1400000.0, 245000.0, 320000.0, 320000.0,\n",
              "       450000.0, 311000.0, 284999.0, 399999.0, 599999.0, 344999.0,\n",
              "       699000.0, 580000.0, 855000.0, 535000.0, 1891111.0, 699000.0,\n",
              "       375000.0, 284999.0, 178000.0, 300000.0, 90000.0, 95000.0, 255000.0,\n",
              "       245000.0, 329500.0, 195000.0, 251111.0, 569999.0, 69999.0,\n",
              "       299999.0, 220000.0, 399999.0, 249999.0, 289999.0, 1891111.0,\n",
              "       499999.0, 489999.0, 489999.0, 549999.0, 380000.0, 325000.0,\n",
              "       57000.0, 349999.0, 689999.0, 349999.0, 410000.0, 225000.0,\n",
              "       120000.0, 320000.0, 59000.0, 540000.0, 80000.0, 340000.0, 75000.0,\n",
              "       220000.0, 159500.0, 599000.0, 80000.0, 675000.0, 1891111.0,\n",
              "       1891111.0, 150000.0, 1891111.0, 72500.0, 610000.0, 230000.0,\n",
              "       175000.0, 855000.0, 375000.0, 520000.0, 524999.0, 299999.0,\n",
              "       299999.0, 284999.0, 220000.0, 424999.0, 644999.0, 399999.0,\n",
              "       199999.0, 584999.0, 349999.0, 449999.0, 799999.0, 444999.0,\n",
              "       649999.0, 444999.0, 689999.0, 344999.0, 944999.0, 274999.0,\n",
              "       689999.0, 574999.0, 374999.0, 199999.0, 549999.0, 130000.0,\n",
              "       210000.0, 501000.0, 401000.0, 1350000.0, 600000.0, 610000.0,\n",
              "       400000.0, 375000.0, 375000.0, 365000.0, 500000.0, 400000.0,\n",
              "       524999.0, 449999.0, 174999.0, 244999.0, 574999.0, 244999.0,\n",
              "       239999.0, 99999.0, 489999.0, 324999.0, 1074999.0, 230000.0,\n",
              "       699000.0, 1000000.0, 240000.0, 110000.0, 390000.0, 501000.0,\n",
              "       1130000.0, 250000.0, 330000.0, 580000.0, 340000.0, 120000.0,\n",
              "       265000.0, 265000.0, 85000.0, 379000.0, 175000.0, 219000.0,\n",
              "       350000.0, 149000.0, 385000.0, 425000.0, 150000.0, 225000.0,\n",
              "       375000.0, 770000.0, 30000.0, 275000.0, 330000.0, 335000.0,\n",
              "       450000.0, 225000.0, 80000.0, 130000.0, 245000.0, 399000.0,\n",
              "       450000.0, 65000.0, 75000.0, 70000.0, 190000.0, 600000.0, 245000.0,\n",
              "       240000.0, 155000.0, 169999.0, 450000.0, 40000.0, 165000.0,\n",
              "       270000.0, 280000.0, 560000.0, 950000.0, 310000.0, 715000.0,\n",
              "       340000.0, 235000.0, 610000.0, 95000.0, 1000000.0, 220000.0,\n",
              "       1200000.0, 230000.0, 45000.0, 940000.0, 155555.0, 1500000.0,\n",
              "       210000.0, 495000.0, 125000.0, 195000.0, 550000.0, 270000.0,\n",
              "       500000.0, 240000.0, 800000.0, 1299000.0, 530000.0, 1499000.0,\n",
              "       220000.0, 900000.0, 250000.0, 395000.0, 130000.0, 32000.0,\n",
              "       540000.0, 540000.0, 405000.0, 400000.0, 760000.0, 500000.0,\n",
              "       175000.0, 900000.0, 750000.0, 419000.0, 90000.0, 140000.0,\n",
              "       1540000.0, 275000.0, 150000.0, 230000.0, 123000.0, 900000.0,\n",
              "       900000.0, 300000.0, 499999.0, 165000.0, 498000.0, 480000.0,\n",
              "       488000.0, 250000.0, 220000.0, 290000.0, 1525000.0, 548900.0,\n",
              "       650000.0, 55000.0, 550000.0, 90000.0, 399000.0, 730000.0, 725000.0,\n",
              "       195000.0, 130000.0, 1525000.0, 190000.0, 250000.0, 80000.0,\n",
              "       120000.0, 149000.0, 250000.0, 120000.0, 450000.0, 99999.0,\n",
              "       135000.0, 225000.0, 99000.0, 370000.0, 52000.0, 2800000.0,\n",
              "       190000.0, 499000.0, 90000.0, 149000.0, 400000.0, 120000.0,\n",
              "       250000.0, 375000.0, 381000.0, 180000.0, 580000.0, 278000.0,\n",
              "       1000000.0, 690000.0, 480000.0, 85000.0, 40000.0, 90000.0, 340000.0,\n",
              "       260000.0, 250000.0, 180000.0, 350000.0, 90001.0, 115000.0,\n",
              "       1599000.0, 130000.0, 159000.0, 160000.0, 110000.0, 425000.0,\n",
              "       900000.0, 150000.0, 110000.0, 51999.0, 115000.0, 215000.0,\n",
              "       580000.0, 380000.0, 350000.0, 35000.0, 1150000.0, 300000.0,\n",
              "       269000.0, 60000.0, 400000.0, 430000.0, 140000.0, 1299000.0,\n",
              "       199000.0, 90000.0, 550000.0, 265000.0, 100000.0, 215000.0,\n",
              "       380000.0, 401919.0, 490000.0, 280000.0, 650000.0, 160000.0,\n",
              "       424000.0, 225000.0, 350000.0, 950000.0, 485000.0, 205000.0,\n",
              "       160000.0, 310000.0, 180000.0, 549900.0, 150000.0, 175000.0,\n",
              "       95000.0, 230000.0, 230000.0, 180000.0, 400000.0, 185000.0,\n",
              "       385000.0, 90000.0, 32000.0, 435000.0, 225000.0, 189700.0, 389700.0,\n",
              "       365000.0, 360000.0, 210000.0, 170000.0, 380000.0, 295000.0,\n",
              "       185000.0, 160000.0, 290000.0, 100000.0, 315000.0, 114990.0,\n",
              "       120000.0, 125000.0, 210000.0, 855000.0, 210000.0, 260000.0,\n",
              "       95000.0, 255000.0, 300000.0, 340000.0, 550000.0, 60000.0, 750000.0,\n",
              "       230000.0, 130000.0, 270000.0, 280000.0, 280000.0, 280000.0,\n",
              "       600000.0, 190000.0, 500000.0, 1065000.0, 350000.0, 350000.0,\n",
              "       540000.0, 470000.0, 179000.0, 48000.0, 650000.0, 190000.0,\n",
              "       500000.0, 270000.0, 125000.0, 188000.0, 380000.0, 365000.0,\n",
              "       465000.0, 240000.0, 179999.0, 140000.0, 2190000.0, 2390000.0,\n",
              "       1075000.0, 475000.0, 1025000.0, 615000.0, 475000.0, 270000.0,\n",
              "       475000.0, 240000.0, 120000.0, 1900000.0, 360000.0, 450000.0,\n",
              "       900000.0, 650000.0, 275000.0, 210000.0, 175000.0, 85000.0,\n",
              "       1490000.0, 800000.0, 450000.0, 1000000.0, 1510000.0, 1850000.0,\n",
              "       790000.0, 1725000.0, 135000.0, 1000000.0, 299999.0, 1225000.0,\n",
              "       175000.0, 200000.0, 270000.0, 525000.0, 180000.0, 140000.0,\n",
              "       400000.0, 499000.0, 85000.0, 70000.0, 550000.0, 370000.0, 690000.0,\n",
              "       250000.0, 110000.0, 490000.0, 320000.0, 68000.0, 130000.0,\n",
              "       970000.0, 3100000.0, 280000.0, 125000.0, 285000.0, 165000.0,\n",
              "       250000.0, 865000.0, 390000.0, 60000.0, 215000.0, 475000.0,\n",
              "       899000.0, 1499000.0, 240000.0, 99000.0, 260000.0, 1200000.0,\n",
              "       115000.0, 88000.0, 390000.0, 135000.0, 90000.0, 220000.0, 424999.0,\n",
              "       135000.0, 95000.0, 430000.0, 115000.0, 215000.0, 53000.0, 500000.0,\n",
              "       85000.0, 165000.0, 200000.0, 200000.0, 425000.0, 600000.0,\n",
              "       130000.0, 430000.0, 568500.0, 71000.0, 560000.0, 590000.0,\n",
              "       750000.0, 125000.0, 135000.0, 60000.0, 120000.0, 95000.0, 240000.0,\n",
              "       115000.0, 795000.0, 55000.0, 300000.0, 320000.0, 265000.0,\n",
              "       160000.0, 300000.0, 130000.0, 250000.0, 380000.0, 42000.0,\n",
              "       400000.0, 120000.0, 120000.0, 130000.0, 189000.0, 365000.0,\n",
              "       170000.0, 215000.0, 60000.0, 599999.0, 400000.0, 900000.0,\n",
              "       299999.0, 374999.0, 600000.0, 70000.0, 100000.0, 150000.0,\n",
              "       225000.0, 210000.0, 425000.0, 162000.0, 60000.0, 650000.0,\n",
              "       750000.0, 375000.0, 230000.0, 35999.0, 380000.0, 560000.0,\n",
              "       285000.0, 2900000.0, 39999.0, 85000.0, 395000.0, 175000.0,\n",
              "       400000.0, 750000.0, 250000.0, 425000.0, 525000.0, 130000.0,\n",
              "       30000.0, 475000.0, 300000.0, 60000.0, 100000.0, 260000.0, 100000.0,\n",
              "       265000.0, 115000.0, 180000.0, 45000.0, 50500.0, 270000.0, 290000.0,\n",
              "       325000.0, 160000.0, 350000.0, 290000.0, 290000.0, 465000.0,\n",
              "       325000.0, 510000.0, 860000.0, 450000.0, 125000.0, 500001.0,\n",
              "       95000.0, 250000.0, 110000.0, 270000.0, 110000.0, 300000.0,\n",
              "       260000.0, 390000.0], dtype=object)"
            ]
          },
          "metadata": {},
          "execution_count": 122
        }
      ]
    },
    {
      "cell_type": "code",
      "metadata": {
        "colab": {
          "base_uri": "https://localhost:8080/"
        },
        "id": "aDgNcRV1DbvN",
        "outputId": "2ca02265-7667-47b2-d4f2-f96ed05aee9f"
      },
      "source": [
        "X_train.shape[0]"
      ],
      "execution_count": null,
      "outputs": [
        {
          "output_type": "execute_result",
          "data": {
            "text/plain": [
              "815"
            ]
          },
          "metadata": {},
          "execution_count": 123
        }
      ]
    },
    {
      "cell_type": "code",
      "metadata": {
        "id": "kL1zMbp5C_zR"
      },
      "source": [
        "x_bias = np.ones((X_train.shape[0],1))\n",
        "X_train = np.append(x_bias,X_train,axis=1)\n",
        "X_train = np.array(X_train, dtype=np.float)\n"
      ],
      "execution_count": null,
      "outputs": []
    },
    {
      "cell_type": "code",
      "metadata": {
        "id": "q57xPys6DtH1"
      },
      "source": [
        "x_transpose = np.transpose(X_train)\n"
      ],
      "execution_count": null,
      "outputs": []
    },
    {
      "cell_type": "code",
      "metadata": {
        "id": "m7ZtL_hSKtcD"
      },
      "source": [
        "x_transpose_dot_x = x_transpose.dot(X_train)\n"
      ],
      "execution_count": null,
      "outputs": []
    },
    {
      "cell_type": "code",
      "metadata": {
        "id": "tADjd6NQLXnk"
      },
      "source": [
        ""
      ],
      "execution_count": null,
      "outputs": []
    },
    {
      "cell_type": "code",
      "metadata": {
        "colab": {
          "base_uri": "https://localhost:8080/"
        },
        "id": "PZguwXeJKvuW",
        "outputId": "2e49968a-0d69-47a3-be3e-e111ad5f1a9e"
      },
      "source": [
        "var1 = np.linalg.inv(x_transpose_dot_x)\n",
        "var1"
      ],
      "execution_count": null,
      "outputs": [
        {
          "output_type": "execute_result",
          "data": {
            "text/plain": [
              "array([[ 3.53736424e+02,  6.67919960e-04, -1.75905573e-01,\n",
              "        -6.38535746e-06,  3.76486010e-01],\n",
              "       [ 6.67919960e-04,  5.22327191e-05, -4.39057295e-07,\n",
              "        -6.04850482e-10, -4.92086021e-05],\n",
              "       [-1.75905573e-01, -4.39057295e-07,  8.74773079e-05,\n",
              "         3.16621979e-09, -1.90470655e-04],\n",
              "       [-6.38535746e-06, -6.04850482e-10,  3.16621979e-09,\n",
              "         1.25049644e-12, -2.75403036e-08],\n",
              "       [ 3.76486010e-01, -4.92086021e-05, -1.90470655e-04,\n",
              "        -2.75403036e-08,  5.68457813e-03]])"
            ]
          },
          "metadata": {},
          "execution_count": 127
        }
      ]
    },
    {
      "cell_type": "code",
      "metadata": {
        "id": "IzTfKQwvDygQ"
      },
      "source": [
        "#X transpose dot y vector\n",
        "var2 = x_transpose.dot(y_train)"
      ],
      "execution_count": null,
      "outputs": []
    },
    {
      "cell_type": "code",
      "metadata": {
        "colab": {
          "base_uri": "https://localhost:8080/"
        },
        "id": "pYG6eEbDTkPs",
        "outputId": "1a1b0789-732e-47d3-8bb1-9da94a2b13c2"
      },
      "source": [
        "theta = var1.dot(var2)\n",
        "theta"
      ],
      "execution_count": null,
      "outputs": [
        {
          "output_type": "execute_result",
          "data": {
            "text/plain": [
              "array([-52949250.896923184, 15492.072669160912, 26406.03243730773,\n",
              "       -1.717768253247593, 132726.57459753705], dtype=object)"
            ]
          },
          "metadata": {},
          "execution_count": 130
        }
      ]
    },
    {
      "cell_type": "code",
      "metadata": {
        "colab": {
          "base_uri": "https://localhost:8080/"
        },
        "id": "Qubmu7vFTqTb",
        "outputId": "3974d343-2593-4cf9-ccdc-19fdae45b799"
      },
      "source": [
        "predicted_values = np.dot([1.0,1.0, 2001.0, 4000.0, 1.0],theta)\n",
        "predicted_values"
      ],
      "execution_count": null,
      "outputs": [
        {
          "output_type": "execute_result",
          "data": {
            "text/plain": [
              "30567.584383295893"
            ]
          },
          "metadata": {},
          "execution_count": 145
        }
      ]
    },
    {
      "cell_type": "code",
      "metadata": {
        "id": "c645FoqxTvVj"
      },
      "source": [
        ""
      ],
      "execution_count": null,
      "outputs": []
    }
  ]
}